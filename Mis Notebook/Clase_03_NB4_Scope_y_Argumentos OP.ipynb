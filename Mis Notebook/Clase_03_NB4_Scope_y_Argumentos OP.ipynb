{
  "nbformat": 4,
  "nbformat_minor": 0,
  "metadata": {
    "colab": {
      "provenance": [],
      "toc_visible": true
    },
    "kernelspec": {
      "name": "python3",
      "display_name": "Python 3"
    },
    "language_info": {
      "name": "python"
    }
  },
  "cells": [
    {
      "cell_type": "markdown",
      "source": [
        "# Scope de variables"
      ],
      "metadata": {
        "id": "AtJpnsxspqt4"
      }
    },
    {
      "cell_type": "markdown",
      "source": [
        "Scope local"
      ],
      "metadata": {
        "id": "PQewUJS4hWqx"
      }
    },
    {
      "cell_type": "code",
      "source": [
        "def mi_funcion():\n",
        "  x = 10 # Variable local\n",
        "  print(x)\n",
        "\n",
        "mi_funcion() # Imprime 10\n",
        "# print(x) # Da error, porque no definimos x fuera de la función"
      ],
      "metadata": {
        "colab": {
          "base_uri": "https://localhost:8080/"
        },
        "id": "qm_xBCXFha6T",
        "outputId": "c4863201-b62a-4d26-e5ac-1beb37fc8d52"
      },
      "execution_count": null,
      "outputs": [
        {
          "output_type": "stream",
          "name": "stdout",
          "text": [
            "10\n"
          ]
        }
      ]
    },
    {
      "cell_type": "markdown",
      "source": [
        "Scope global"
      ],
      "metadata": {
        "id": "Vt73GDAGhqUf"
      }
    },
    {
      "cell_type": "code",
      "source": [
        "y = 20 # Variable global\n",
        "\n",
        "def otra_funcion():\n",
        "  print(y) # Accede a la variable global otra_funcion() # Imprime 20\n",
        "\n",
        "otra_funcion()"
      ],
      "metadata": {
        "colab": {
          "base_uri": "https://localhost:8080/"
        },
        "id": "iQCNFTTshtfl",
        "outputId": "33923529-db6c-4985-98ae-1b79bad66a9d"
      },
      "execution_count": null,
      "outputs": [
        {
          "output_type": "stream",
          "name": "stdout",
          "text": [
            "20\n"
          ]
        }
      ]
    },
    {
      "cell_type": "code",
      "source": [
        "# Si necesitamos modificar una variable global dentro de una función, debemos usar la palabra clave global:\n",
        "z = 30 # Variable global\n",
        "def cambiar_global():\n",
        "  global z # Indica que se usa la variable global z\n",
        "  z = 40\n",
        "\n",
        "cambiar_global()\n",
        "print(z) # Imprime 40"
      ],
      "metadata": {
        "colab": {
          "base_uri": "https://localhost:8080/"
        },
        "id": "ElsvJgKciAGK",
        "outputId": "f533df70-f546-4174-ef73-cbdc4cb0fa7a"
      },
      "execution_count": null,
      "outputs": [
        {
          "output_type": "stream",
          "name": "stdout",
          "text": [
            "40\n"
          ]
        }
      ]
    },
    {
      "cell_type": "markdown",
      "source": [
        "Scope de variables no locales"
      ],
      "metadata": {
        "id": "s78nBP4hiG4u"
      }
    },
    {
      "cell_type": "code",
      "source": [
        "def funcion_externa():\n",
        "  a = 5\n",
        "  def funcion_interna():\n",
        "    nonlocal a # Accede al valor de a en el scope de la función externa\n",
        "    a += 1\n",
        "    print(a)\n",
        "  funcion_interna()\n",
        "\n",
        "funcion_externa() # Imprime 6"
      ],
      "metadata": {
        "colab": {
          "base_uri": "https://localhost:8080/"
        },
        "id": "IQCRr1tDiI7K",
        "outputId": "20e217d7-4b0f-4305-fea2-6d66bc69cb30"
      },
      "execution_count": null,
      "outputs": [
        {
          "output_type": "stream",
          "name": "stdout",
          "text": [
            "6\n"
          ]
        }
      ]
    },
    {
      "cell_type": "markdown",
      "source": [
        "# Tipos de parámetros en las funciones de Python"
      ],
      "metadata": {
        "id": "JAlG8Xywieo9"
      }
    },
    {
      "cell_type": "markdown",
      "source": [
        "## 1. Parámetros posicionales"
      ],
      "metadata": {
        "id": "nPaWZCnEiiuS"
      }
    },
    {
      "cell_type": "code",
      "source": [
        "def suma(a, b):\n",
        "  return a + b\n",
        "resultado = suma(3, 5) # a=3 y b=5\n",
        "print(resultado) # Imprime 8"
      ],
      "metadata": {
        "colab": {
          "base_uri": "https://localhost:8080/"
        },
        "id": "DoOBMQsVimES",
        "outputId": "7ade0d86-7046-46bf-91c7-17deecd09fb2"
      },
      "execution_count": 7,
      "outputs": [
        {
          "output_type": "stream",
          "name": "stdout",
          "text": [
            "8\n"
          ]
        }
      ]
    },
    {
      "cell_type": "markdown",
      "source": [
        "Prueba Multiplicar"
      ],
      "metadata": {
        "id": "v73d2--saIJB"
      }
    },
    {
      "cell_type": "code",
      "source": [
        "def multiplicar(a, b):\n",
        "  return a * b\n",
        "resultado = multiplicar(1, 9)\n",
        "print(resultado)"
      ],
      "metadata": {
        "colab": {
          "base_uri": "https://localhost:8080/"
        },
        "id": "NwJFHcXaab_3",
        "outputId": "5670041b-3d51-4aea-e2ee-d7ae5dc54fa2"
      },
      "execution_count": 21,
      "outputs": [
        {
          "output_type": "stream",
          "name": "stdout",
          "text": [
            "9\n"
          ]
        }
      ]
    },
    {
      "cell_type": "markdown",
      "source": [
        "Prueba 2"
      ],
      "metadata": {
        "id": "xTsrwFEvbx_M"
      }
    },
    {
      "cell_type": "code",
      "source": [
        "def multiplicar(a, b, c, d):\n",
        "  return a * b * c * d\n",
        "resultado = multiplicar(1, 9, 3, 2)\n",
        "print(resultado)"
      ],
      "metadata": {
        "colab": {
          "base_uri": "https://localhost:8080/"
        },
        "id": "tPLVs-i3a5my",
        "outputId": "18137b61-c797-44ad-ecd5-9bfc1873f516"
      },
      "execution_count": 39,
      "outputs": [
        {
          "output_type": "stream",
          "name": "stdout",
          "text": [
            "54\n"
          ]
        }
      ]
    },
    {
      "cell_type": "markdown",
      "source": [
        "Prueba 3"
      ],
      "metadata": {
        "id": "c4jZafZncOpf"
      }
    },
    {
      "cell_type": "code",
      "source": [
        "def tito(a, b, c):\n",
        "  return a * b * c\n",
        "  re = tito(1, 1, 1)\n",
        "  print(re)"
      ],
      "metadata": {
        "id": "qbVTWov-cRj_"
      },
      "execution_count": 42,
      "outputs": []
    },
    {
      "cell_type": "markdown",
      "source": [
        "## 2. Parámetros por Defecto"
      ],
      "metadata": {
        "id": "KVwfRgUZioyF"
      }
    },
    {
      "cell_type": "code",
      "source": [
        "def saludar(nombre=\"Mundo\"):\n",
        "  return f\"Hola, {nombre}!\"\n",
        "print(saludar()) # Imprime \"Hola, Mundo!\"\n",
        "print(saludar(\"Alice\")) # Imprime \"Hola, Alice!\""
      ],
      "metadata": {
        "colab": {
          "base_uri": "https://localhost:8080/"
        },
        "id": "_GKxjTKaip-n",
        "outputId": "2c7688e3-7404-4e04-b168-0eb26ac2805d"
      },
      "execution_count": null,
      "outputs": [
        {
          "output_type": "stream",
          "name": "stdout",
          "text": [
            "Hola, Mundo!\n",
            "Hola, Alice!\n"
          ]
        }
      ]
    },
    {
      "cell_type": "markdown",
      "source": [
        "## 3. Parámetros Indefinidos (*args)"
      ],
      "metadata": {
        "id": "gJmS0tDqiszU"
      }
    },
    {
      "cell_type": "code",
      "source": [
        "def sumar_todos(*args):\n",
        "  return sum(args)\n",
        "print(sumar_todos(1, 2, 3)) # Imprime 6\n",
        "print(sumar_todos(4, 5, 6, 7, 8)) # Imprime 30"
      ],
      "metadata": {
        "colab": {
          "base_uri": "https://localhost:8080/"
        },
        "id": "9X3o1Ga2iu-5",
        "outputId": "1da3597b-0855-40a7-8597-73a9db3c8edd"
      },
      "execution_count": null,
      "outputs": [
        {
          "output_type": "stream",
          "name": "stdout",
          "text": [
            "6\n",
            "30\n"
          ]
        }
      ]
    },
    {
      "cell_type": "markdown",
      "source": [
        "## 4. Parámetros de Palabras Clave Indefinidas (**kwargs)"
      ],
      "metadata": {
        "id": "OzxYAwMrixcD"
      }
    },
    {
      "cell_type": "code",
      "source": [
        "def mostrar_informacion(nombre, **kwargs):\n",
        "  info = f\"Nombre: {nombre}\\n\"\n",
        "  for clave, valor in kwargs.items():\n",
        "    info += f\"{clave}: {valor}\\n\"\n",
        "  return info\n",
        "\n",
        "print(mostrar_informacion(\"Alice\",edad=30,ciudad=\"Madrid\",profesion=\"Ingeniera\"))"
      ],
      "metadata": {
        "colab": {
          "base_uri": "https://localhost:8080/"
        },
        "id": "WTk20VwVizc9",
        "outputId": "8c43ca89-410f-4eb1-c10f-68f15c25eb9c"
      },
      "execution_count": null,
      "outputs": [
        {
          "output_type": "stream",
          "name": "stdout",
          "text": [
            "Nombre: Alice\n",
            "edad: 30\n",
            "ciudad: Madrid\n",
            "profesion: Ingeniera\n",
            "\n"
          ]
        }
      ]
    },
    {
      "cell_type": "markdown",
      "source": [
        "## 5. Combinando Parámetros"
      ],
      "metadata": {
        "id": "9dzWgq4HjMq9"
      }
    },
    {
      "cell_type": "code",
      "source": [
        "def funcion_compleja(param1, param2=10, *args, kwarg1=None,**kwargs):\n",
        "  print(f\"param1: {param1}, param2: {param2}, args: {args},kwarg1: {kwarg1}, kwargs: {kwargs}\")\n",
        "\n",
        "funcion_compleja(5, 20, 30, 40, kwarg1='Valor1',otro_kwarg='Valor2')\n",
        "\n",
        "'''\n",
        "Salida esperada\n",
        "param1: 5, param2: 20, args: (30, 40), kwarg1: Valor1, kwargs:{'otro_kwarg':'Valor2'}\n",
        "'''"
      ],
      "metadata": {
        "colab": {
          "base_uri": "https://localhost:8080/",
          "height": 54
        },
        "id": "iTiq6MBfjPXk",
        "outputId": "2e03e637-693a-474a-afa3-b080f4f4a4dc"
      },
      "execution_count": null,
      "outputs": [
        {
          "output_type": "stream",
          "name": "stdout",
          "text": [
            "param1: 5, param2: 20, args: (30, 40),kwarg1: Valor1, kwargs: {'otro_kwarg': 'Valor2'}\n"
          ]
        },
        {
          "output_type": "execute_result",
          "data": {
            "text/plain": [
              "\"\\nSalida esperada\\nparam1: 5, param2: 20, args: (30, 40), kwarg1: Valor1, kwargs:\\n{'otro_kwarg':\\n\""
            ],
            "application/vnd.google.colaboratory.intrinsic+json": {
              "type": "string"
            }
          },
          "metadata": {},
          "execution_count": 18
        }
      ]
    }
  ]
}